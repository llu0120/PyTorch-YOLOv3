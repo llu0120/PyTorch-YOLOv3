{
 "cells": [
  {
   "cell_type": "code",
   "execution_count": null,
   "metadata": {},
   "outputs": [],
   "source": [
    "import numpy as np \n",
    "import matplotlib.pyplot as plt"
   ]
  },
  {
   "cell_type": "code",
   "execution_count": null,
   "metadata": {},
   "outputs": [],
   "source": [
    "mAP = 100*np.mean(np.load(\"ap.npy\"), axis=1)\n",
    "l1 = len(mAP)\n",
    "x1 = np.linspace(0, l1, num=l1)\n",
    "plt.title(\"Mean Average Precision\")\n",
    "plt.xlabel(\"Epoch\")\n",
    "plt.ylabel(\"mAP %\")\n",
    "plt.plot(x1, mAP)"
   ]
  },
  {
   "cell_type": "code",
   "execution_count": null,
   "metadata": {},
   "outputs": [],
   "source": [
    "mAP = 100*np.load(\"mAP.npy\")\n",
    "l1 = len(mAP)\n",
    "ap_person = [x[0] for x in mAP]\n",
    "plt.title(\"Average Precision for Class Person\")\n",
    "plt.xlabel(\"Epoch\")\n",
    "plt.ylabel(\"AP %\")\n",
    "plt.plot(x1, ap_person)"
   ]
  },
  {
   "cell_type": "code",
   "execution_count": null,
   "metadata": {},
   "outputs": [],
   "source": [
    "ap_car = [x[1] for x in mAP]\n",
    "plt.title(\"Average Precision for Class Car\")\n",
    "plt.xlabel(\"Epoch\")\n",
    "plt.ylabel(\"AP %\")\n",
    "plt.plot(x1, ap_car)"
   ]
  },
  {
   "cell_type": "code",
   "execution_count": null,
   "metadata": {},
   "outputs": [],
   "source": [
    "ap_truck = [x[2] for x in mAP]\n",
    "plt.title(\"Average Precision for Class Truck\")\n",
    "plt.xlabel(\"Epoch\")\n",
    "plt.ylabel(\"AP %\")\n",
    "plt.plot(x1, ap_truck)\n"
   ]
  },
  {
   "cell_type": "code",
   "execution_count": null,
   "metadata": {},
   "outputs": [],
   "source": [
    "ap_motorbike = [x[3] for x in mAP]\n",
    "plt.title(\"Average Precision for Class Motorbike\")\n",
    "plt.xlabel(\"Epoch\")\n",
    "plt.ylabel(\"AP %\")\n",
    "plt.plot(x1, ap_motorbike)"
   ]
  },
  {
   "cell_type": "code",
   "execution_count": null,
   "metadata": {},
   "outputs": [],
   "source": [
    "ap_bike = [x[4] for x in mAP]\n",
    "plt.title(\"Average Precision for Class Bike\")\n",
    "plt.xlabel(\"Epoch\")\n",
    "plt.ylabel(\"AP %\")\n",
    "plt.plot(x1, ap_bike)"
   ]
  },
  {
   "cell_type": "code",
   "execution_count": null,
   "metadata": {},
   "outputs": [],
   "source": [
    "ap_stopsign = [x[5] for x in mAP]\n",
    "plt.title(\"Average Precision for Class Stop Sign\")\n",
    "plt.xlabel(\"Epoch\")\n",
    "plt.ylabel(\"AP %\")\n",
    "plt.plot(x1, ap_stopsign)"
   ]
  },
  {
   "cell_type": "code",
   "execution_count": null,
   "metadata": {},
   "outputs": [],
   "source": [
    "ap_yieldsign = [x[6] for x in mAP]\n",
    "plt.title(\"Average Precision for Class Yield Sign\")\n",
    "plt.xlabel(\"Epoch\")\n",
    "plt.ylabel(\"AP %\")\n",
    "plt.plot(x1, ap_yieldsign)"
   ]
  },
  {
   "cell_type": "code",
   "execution_count": null,
   "metadata": {},
   "outputs": [],
   "source": [
    "loss =np.load(\"loss.npy\")\n",
    "l2 = len(loss)\n",
    "x2 = np.linspace(0, l2, num=l2)\n",
    "plt.title(\"Loss\")\n",
    "plt.xlabel(\"Epoch\")\n",
    "plt.ylabel(\"Loss\")\n",
    "plt.plot(x2, loss)"
   ]
  }
 ],
 "metadata": {
  "kernelspec": {
   "display_name": "Python 3",
   "language": "python",
   "name": "python3"
  },
  "language_info": {
   "codemirror_mode": {
    "name": "ipython",
    "version": 3
   },
   "file_extension": ".py",
   "mimetype": "text/x-python",
   "name": "python",
   "nbconvert_exporter": "python",
   "pygments_lexer": "ipython3",
   "version": "3.7.3"
  }
 },
 "nbformat": 4,
 "nbformat_minor": 2
}
